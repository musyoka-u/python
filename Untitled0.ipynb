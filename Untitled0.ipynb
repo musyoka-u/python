{
  "cells": [
    {
      "cell_type": "markdown",
      "metadata": {
        "id": "view-in-github",
        "colab_type": "text"
      },
      "source": [
        "<a href=\"https://colab.research.google.com/github/musyoka-u/python/blob/main/Untitled0.ipynb\" target=\"_parent\"><img src=\"https://colab.research.google.com/assets/colab-badge.svg\" alt=\"Open In Colab\"/></a>"
      ]
    },
    {
      "cell_type": "markdown",
      "metadata": {
        "id": "0bHs5mpviCnf"
      },
      "source": [
        "*python* coding\n"
      ]
    },
    {
      "cell_type": "markdown",
      "source": [],
      "metadata": {
        "id": "z1VDQfA8BCmA"
      }
    },
    {
      "cell_type": "code",
      "execution_count": null,
      "metadata": {
        "id": "NJdAtyWchhaN",
        "colab": {
          "base_uri": "https://localhost:8080/"
        },
        "outputId": "f9ee37cf-b2d0-4896-a1c7-2d83b9c85db3"
      },
      "outputs": [
        {
          "output_type": "stream",
          "name": "stdout",
          "text": [
            "[1 2 3 4]\n",
            "<class 'numpy.ndarray'>\n",
            "[1 2 3 4]\n",
            "[[1 2 3 4]\n",
            " [5 6 7 8]]\n",
            "<class 'numpy.ndarray'>\n",
            "[[[1 2 3]\n",
            "  [4 5 6]\n",
            "  [7 8 9]]]\n",
            "<class 'numpy.ndarray'>\n",
            "0\n",
            "1\n",
            "2\n",
            "3\n",
            "4\n"
          ]
        }
      ],
      "source": [
        "# creation of arrays\n",
        "import numpy as np\n",
        "arr = np.array([1, 2, 3, 4])\n",
        "print(arr)\n",
        "print(type(arr))\n",
        "\n",
        "#creation of an array using tuple\n",
        "arr = np.array((1, 2, 3, 4))\n",
        "print(arr)\n",
        "\n",
        "#creation of 2d array\n",
        "arr = np.array([[1, 2, 3, 4,], [5, 6, 7, 8]])\n",
        "print(arr)\n",
        "print(type(arr))\n",
        "\n",
        "#creation of 3d array\n",
        "arr = np.array([[[1, 2, 3], [4, 5, 6], [7, 8, 9]]])\n",
        "print(arr)\n",
        "print(type(arr))\n",
        "\n",
        "#to chek on array dimenssion\n",
        "k = np.array(4)\n",
        "L = np.array([2, 3, 4])\n",
        "M = np.array([[5, 6, 7], [40, 30, 20]])\n",
        "Q = np.array([[[8, 9, 10], [11, 12, 13]], [[14, 15, 16], [17, 18, 19]]])\n",
        "H = np.array([[[[10, 60, 50], [76, 86, 96], [56, 66, 26],[73, 63, 53]]]])\n",
        "print(k.ndim)\n",
        "print(L.ndim)\n",
        "print(M.ndim)\n",
        "print(Q.ndim)\n",
        "print(H.ndim)"
      ]
    },
    {
      "cell_type": "code",
      "source": [
        "#array indexing\n",
        "import numpy as np\n",
        "#this how to access element in array\n",
        "#example: to access elements in 1D array\n",
        "arr = np.array([11, 2, 3, 4])\n",
        "print(arr[3]) # this prints the value at position four\n",
        "\n",
        "\n",
        "#example 2\n",
        "#to access element in a 2D array\n",
        "arr = np.array([[1, 2, 9], [4, 5, 6]])\n",
        "\n",
        "print(arr[1]) #printing elements in first column\n",
        "print(arr[0, 2]) # printing element in first column at position 3\n",
        "print(arr[1]) #printing elements in the second column\n",
        "print(arr[1, 2]) #printing elements in 2nd column at position 3\n",
        "\n",
        "\n",
        "#exmaple 3:\n",
        "#to acces elements in 3d array\n",
        "arr = np.array([[[10, 20, 30], [40, 50, 60]], [[70, 80, 90], [110, 120, 100]]])\n",
        "\n",
        "print(arr.ndim)\n",
        "print(arr[0, 1, 2]) # printing element in first slot = [10, 20, 30], [40, 50, 60]:# second column value at position 3,#[40, 50, 60].\n",
        "\n",
        "print(arr[1, 0, 1]) # printing element in second slot = [70, 80, 90], [110, 120, 100] :# first column value at position 2,# [70, 80, 90].\n",
        "\n",
        "#Negative indexing\n",
        "#in negative indexing elements counting position in an array stars from at the end of am array\n",
        "#example\n",
        "#to access element in a 2D array using negative indexing\n",
        "arr = np.array([[1, 2, 9], [4, 5, 6]])\n",
        "\n",
        "print(arr[0, -1]) #this prints elements in fist column array value at position 3\n",
        "print(arr[1, -2]) # this prints element in second column array value at position 2\n",
        "print(arr[-1, -3]) # this prints element in second column array value at position 1\n"
      ],
      "metadata": {
        "colab": {
          "base_uri": "https://localhost:8080/"
        },
        "id": "irMsrCaJMcc3",
        "outputId": "6583dffa-b13a-41e9-bdfd-3a1bcd9200fb"
      },
      "execution_count": null,
      "outputs": [
        {
          "output_type": "stream",
          "name": "stdout",
          "text": [
            "4\n",
            "[4 5 6]\n",
            "9\n",
            "[4 5 6]\n",
            "6\n",
            "3\n",
            "60\n",
            "80\n",
            "9\n",
            "5\n",
            "4\n"
          ]
        }
      ]
    },
    {
      "cell_type": "code",
      "source": [],
      "metadata": {
        "id": "peSsU7zHR7Rn"
      },
      "execution_count": null,
      "outputs": []
    },
    {
      "cell_type": "code",
      "source": [
        "#slicing of numpys\n",
        "#Slicing in python means taking elements from one given index to another given index.\n",
        "import numpy as np\n",
        "arr = np.array([1, 2, 3, 4, 5])\n",
        "print(arr[0:3])\n",
        "\n",
        "#slince from binging to index 3;\n",
        "print(arr[:4])\n",
        "\n",
        "#slince from index 3 to the end of array\n",
        "\n",
        "print(arr[3:])\n",
        "#slicing of 2D array\n",
        "arr =np.array([[1, 2, 3, 4], [5, 6, 7, 8]])\n",
        "print(arr[0, 0:4])\n",
        "print(arr[1, 1:4])\n",
        "\n",
        "# using step value in slicing\n",
        "arr = np.array([3, 4, 5, 6, 7, 8, 9,])\n",
        "print(arr[1:5:2])# prints element in position [1] and any other element when you jump one step that are in between index [5]\n"
      ],
      "metadata": {
        "id": "YVhxaLCefnbg",
        "colab": {
          "base_uri": "https://localhost:8080/"
        },
        "outputId": "8d834e74-4d4e-4b33-b117-b24cd99cc117"
      },
      "execution_count": null,
      "outputs": [
        {
          "output_type": "stream",
          "name": "stdout",
          "text": [
            "[1 2 3]\n",
            "[1 2 3 4]\n",
            "[4 5]\n",
            "[1 2 3 4]\n",
            "[6 7 8]\n",
            "[4 6]\n"
          ]
        }
      ]
    },
    {
      "cell_type": "code",
      "source": [
        "import pandas as pd\n",
        "'''\n",
        "Pandas is a Python library used for working with data sets.\n",
        "\n",
        "It has functions for analyzing, cleaning, exploring, and manipulating data.\n",
        "'''\n",
        "mydataset= {\n",
        "    'cars': [\"toyota\",\"mazda\", \"sumbaru\", \"v8\"],\n",
        "    'passing':[4, 7, 8, 10]\n",
        "}\n",
        "today = pd.DataFrame(mydataset)\n",
        "print(today)\n"
      ],
      "metadata": {
        "colab": {
          "base_uri": "https://localhost:8080/"
        },
        "id": "E2csaqT1SDTp",
        "outputId": "a6d00f8e-b23c-445c-f011-0169de4bb088"
      },
      "execution_count": null,
      "outputs": [
        {
          "output_type": "stream",
          "name": "stdout",
          "text": [
            "      cars  passing\n",
            "0   toyota        4\n",
            "1    mazda        7\n",
            "2  sumbaru        8\n",
            "3       v8       10\n"
          ]
        }
      ]
    },
    {
      "cell_type": "code",
      "source": [
        "# lableling in pandas\n",
        "import pandas as pd\n",
        "#example to demonstrate the number of trophys a tearm has\n",
        "mydataset = {\"manchester united\":20, \"chelsea\":6, \"manchester city\":10, \"liverpool fc\":19}\n",
        "champions = pd.Series(mydataset)\n",
        "print(champions)\n",
        "A = [\"football\", \"basketball\", \"netball\"]\n",
        "my_hobby =pd.Series(A, index = [\"x\", \"y\", \"z\"])\n",
        "print(my_hobby)"
      ],
      "metadata": {
        "colab": {
          "base_uri": "https://localhost:8080/"
        },
        "id": "JdoJfK4pXAcv",
        "outputId": "11a45d97-50aa-468c-994f-ac5021ab5c0e"
      },
      "execution_count": null,
      "outputs": [
        {
          "output_type": "stream",
          "name": "stdout",
          "text": [
            "manchester united    20\n",
            "chelsea               6\n",
            "manchester city      10\n",
            "liverpool fc         19\n",
            "dtype: int64\n",
            "x      football\n",
            "y    basketball\n",
            "z       netball\n",
            "dtype: object\n"
          ]
        }
      ]
    },
    {
      "cell_type": "code",
      "source": [
        "#pandas dataframes\n",
        "import pandas as pd\n",
        "data = {\n",
        "    \"students\":[\"caleb\", \"christine\", \"chalse\", \"josphat\", \"faith\"],\n",
        "    \"KCPE_results\":[470, 420, 390, 387, 378]\n",
        "}\n",
        "df =pd.DataFrame(data, index = [\"A\", \"B\", \"C\", \"y\", \"p\"])\n",
        "print(df)\n",
        "\n",
        "#to locate name ndex we use \"loc\" key\n",
        "#example lets locate the best student\n",
        "print(df.loc[\"A\"])\n",
        "\n",
        "'''\n",
        "pandas can also read data if stored in csv file  by:\n",
        "df = pd.read_csv('data.csv')\n",
        "then use print(df) function to read the data\n",
        "'''"
      ],
      "metadata": {
        "colab": {
          "base_uri": "https://localhost:8080/",
          "height": 192
        },
        "id": "qSdJT7DPfENp",
        "outputId": "f9062742-cc2d-4440-9b19-1899624509d9"
      },
      "execution_count": null,
      "outputs": [
        {
          "output_type": "stream",
          "name": "stdout",
          "text": [
            "    students  KCPE_results\n",
            "A      caleb           470\n",
            "B  christine           420\n",
            "C     chalse           390\n",
            "y    josphat           387\n",
            "p      faith           378\n",
            "students        caleb\n",
            "KCPE_results      470\n",
            "Name: A, dtype: object\n"
          ]
        },
        {
          "output_type": "execute_result",
          "data": {
            "text/plain": [
              "\"\\npandas can also read data if stored in csv file  by:\\ndf = pd.read_csv('data.csv')\\nthen use print(df) function to read the data\\n\""
            ],
            "application/vnd.google.colaboratory.intrinsic+json": {
              "type": "string"
            }
          },
          "metadata": {},
          "execution_count": 238
        }
      ]
    }
  ],
  "metadata": {
    "colab": {
      "provenance": [],
      "mount_file_id": "1yV2VSfKkBbLbbLtfIAb8GnGlXXKZKJOx",
      "authorship_tag": "ABX9TyMsQxNXPzJN5jt+0+YfYohL",
      "include_colab_link": true
    },
    "kernelspec": {
      "display_name": "Python 3",
      "name": "python3"
    },
    "language_info": {
      "name": "python"
    }
  },
  "nbformat": 4,
  "nbformat_minor": 0
}